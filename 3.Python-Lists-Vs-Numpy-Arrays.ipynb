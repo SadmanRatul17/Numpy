{
 "cells": [
  {
   "cell_type": "markdown",
   "id": "509ff8be-577c-4d90-94e4-34ec69640c35",
   "metadata": {},
   "source": [
    "# Lists vs Arrays\n",
    "\n",
    " <ol>\n",
    "   <li>Faster</li>\n",
    "    <li>Convenient( with numbers)</li>\n",
    "    <li>Less memory </li>\n",
    "  \n",
    "</ol>\n",
    "<br>"
   ]
  },
  {
   "cell_type": "code",
   "execution_count": 2,
   "id": "26ed1f9c-4b10-40c9-8d9a-cfd6fd58c888",
   "metadata": {},
   "outputs": [],
   "source": [
    "import numpy as np"
   ]
  },
  {
   "cell_type": "code",
   "execution_count": 3,
   "id": "e8a982a0-3889-47c2-9ef8-9135bd1473b1",
   "metadata": {},
   "outputs": [],
   "source": [
    "lista = range(100)\n",
    "arr1 = np.arange(100)"
   ]
  },
  {
   "cell_type": "code",
   "execution_count": 4,
   "id": "b678c092-228a-4e31-82e5-9cedbb548b39",
   "metadata": {},
   "outputs": [],
   "source": [
    "import sys"
   ]
  },
  {
   "cell_type": "code",
   "execution_count": 5,
   "id": "01a7a8cd-9a6d-45c1-8d15-fd03591969c6",
   "metadata": {},
   "outputs": [
    {
     "name": "stdout",
     "output_type": "stream",
     "text": [
      "2800\n"
     ]
    }
   ],
   "source": [
    "print(sys.getsizeof(55)*len(lista))  # Total size of lists are 2800"
   ]
  },
  {
   "cell_type": "code",
   "execution_count": 6,
   "id": "0a5020d5-62dd-4925-a4b5-19d67008cf1e",
   "metadata": {},
   "outputs": [
    {
     "name": "stdout",
     "output_type": "stream",
     "text": [
      "400\n"
     ]
    }
   ],
   "source": [
    "print(arr1.itemsize*arr1.size) # Total size of arrays are 400"
   ]
  },
  {
   "cell_type": "markdown",
   "id": "632d0eac-9239-43a4-b16f-eecbe6894867",
   "metadata": {},
   "source": [
    "## Arrays take less memory(proved)"
   ]
  },
  {
   "cell_type": "markdown",
   "id": "38707136-8ef2-4627-96e9-f9d1f33b976a",
   "metadata": {},
   "source": [
    "<br>"
   ]
  },
  {
   "cell_type": "code",
   "execution_count": 8,
   "id": "ee405d81-64be-45ec-a3e4-9e91659e9d08",
   "metadata": {},
   "outputs": [],
   "source": [
    "import time"
   ]
  },
  {
   "cell_type": "code",
   "execution_count": 9,
   "id": "98fb45e4-861c-47ff-b313-46cf9ab6dc01",
   "metadata": {},
   "outputs": [
    {
     "name": "stdout",
     "output_type": "stream",
     "text": [
      "0.010962963104248047\n"
     ]
    }
   ],
   "source": [
    "# lists\n",
    "x = range(100000)\n",
    "y = range (100000,200000)\n",
    "\n",
    "start_time = time.time()\n",
    "\n",
    "c = [ x+y for x,y in zip(x,y)]\n",
    "\n",
    "print(time.time() - start_time)"
   ]
  },
  {
   "cell_type": "code",
   "execution_count": 10,
   "id": "760da540-3071-435d-8b86-e5e41de58b20",
   "metadata": {},
   "outputs": [
    {
     "name": "stdout",
     "output_type": "stream",
     "text": [
      "0.0019996166229248047\n"
     ]
    }
   ],
   "source": [
    "# numpy arrays\n",
    "\n",
    "a = np.arange(100000)\n",
    "b = np.arange (100000,200000)\n",
    "\n",
    "start_time = time.time()\n",
    "\n",
    "c = a + b \n",
    "\n",
    "print(time.time() - start_time)"
   ]
  },
  {
   "cell_type": "markdown",
   "id": "95c17b80-c128-41f5-b1ae-673699abec93",
   "metadata": {},
   "source": [
    "## Arrays are faster than lists(proved)"
   ]
  },
  {
   "cell_type": "markdown",
   "id": "08bebaf4-9d07-4d53-ae80-9dc430d39266",
   "metadata": {},
   "source": [
    "<br>"
   ]
  },
  {
   "cell_type": "markdown",
   "id": "59501320-9631-438e-98dd-bbaaedccdfde",
   "metadata": {},
   "source": [
    " ### c = [ x+y for x,y in zip(x,y)] (in lists)\n",
    " ### c = a + b (in arrays)\n",
    "\n",
    " # Arrays are more convenient(proved)"
   ]
  }
 ],
 "metadata": {
  "kernelspec": {
   "display_name": "Python 3 (ipykernel)",
   "language": "python",
   "name": "python3"
  },
  "language_info": {
   "codemirror_mode": {
    "name": "ipython",
    "version": 3
   },
   "file_extension": ".py",
   "mimetype": "text/x-python",
   "name": "python",
   "nbconvert_exporter": "python",
   "pygments_lexer": "ipython3",
   "version": "3.11.3"
  }
 },
 "nbformat": 4,
 "nbformat_minor": 5
}
