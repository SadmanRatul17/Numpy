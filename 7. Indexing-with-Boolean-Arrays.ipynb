{
 "cells": [
  {
   "cell_type": "code",
   "execution_count": 1,
   "id": "20c1d840-02fa-460e-a720-4f6b3aa23105",
   "metadata": {},
   "outputs": [],
   "source": [
    "import numpy as np"
   ]
  },
  {
   "cell_type": "code",
   "execution_count": 2,
   "id": "64830747-3dcf-4933-a237-72f5a0aaaa52",
   "metadata": {},
   "outputs": [
    {
     "data": {
      "text/plain": [
       "array([[24, 85, 71, 19,  8],\n",
       "       [42, 17, 39, 24, 70],\n",
       "       [37, 19, 66, 65,  8],\n",
       "       [21, 14, 57, 98, 10]])"
      ]
     },
     "execution_count": 2,
     "metadata": {},
     "output_type": "execute_result"
    }
   ],
   "source": [
    "arr = np.random.randint(1,100,20).reshape(4,5)  # randint(low, high, size)\n",
    "arr"
   ]
  },
  {
   "cell_type": "code",
   "execution_count": 3,
   "id": "7456c7dd-3379-46c8-bd39-4a3e2a241757",
   "metadata": {},
   "outputs": [
    {
     "data": {
      "text/plain": [
       "array([85, 71, 70, 66, 65, 57, 98])"
      ]
     },
     "execution_count": 3,
     "metadata": {},
     "output_type": "execute_result"
    }
   ],
   "source": [
    "# Indexing with Boolean Arrays\n",
    "arr[arr>50]"
   ]
  },
  {
   "cell_type": "code",
   "execution_count": 4,
   "id": "980f426e-89a0-409b-9875-0f1097d392bc",
   "metadata": {},
   "outputs": [
    {
     "data": {
      "text/plain": [
       "array([85, 71, 65, 57])"
      ]
     },
     "execution_count": 4,
     "metadata": {},
     "output_type": "execute_result"
    }
   ],
   "source": [
    "arr[(arr>50) & (arr%2 != 0)]"
   ]
  },
  {
   "cell_type": "code",
   "execution_count": 5,
   "id": "19afcf9f-a7cb-4cc7-8d00-a6dede9a3837",
   "metadata": {},
   "outputs": [
    {
     "data": {
      "text/plain": [
       "array([[24, 85, 71, 19,  8],\n",
       "       [42, 17, 39, 24, 70],\n",
       "       [37, 19, 66, 65,  8],\n",
       "       [21, 14, 57, 98, 10]])"
      ]
     },
     "execution_count": 5,
     "metadata": {},
     "output_type": "execute_result"
    }
   ],
   "source": [
    "arr"
   ]
  },
  {
   "cell_type": "code",
   "execution_count": 6,
   "id": "27d59eb2-b610-474d-9b9d-2ceeb4853796",
   "metadata": {},
   "outputs": [],
   "source": [
    "arr[(arr>50) & (arr%2 != 0)] = 0"
   ]
  },
  {
   "cell_type": "code",
   "execution_count": 7,
   "id": "0ea4122b-549f-41bd-80b9-65c203d571d6",
   "metadata": {},
   "outputs": [
    {
     "data": {
      "text/plain": [
       "array([[24,  0,  0, 19,  8],\n",
       "       [42, 17, 39, 24, 70],\n",
       "       [37, 19, 66,  0,  8],\n",
       "       [21, 14,  0, 98, 10]])"
      ]
     },
     "execution_count": 7,
     "metadata": {},
     "output_type": "execute_result"
    }
   ],
   "source": [
    "arr"
   ]
  }
 ],
 "metadata": {
  "kernelspec": {
   "display_name": "Python 3 (ipykernel)",
   "language": "python",
   "name": "python3"
  },
  "language_info": {
   "codemirror_mode": {
    "name": "ipython",
    "version": 3
   },
   "file_extension": ".py",
   "mimetype": "text/x-python",
   "name": "python",
   "nbconvert_exporter": "python",
   "pygments_lexer": "ipython3",
   "version": "3.11.3"
  }
 },
 "nbformat": 4,
 "nbformat_minor": 5
}
